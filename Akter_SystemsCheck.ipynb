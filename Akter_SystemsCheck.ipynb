{
 "cells": [
  {
   "cell_type": "markdown",
   "id": "6d40db0a-770e-4d79-8980-f57d9f4e6a22",
   "metadata": {},
   "source": [
    "# System Check\n",
    "## Assignment on system check \n",
    "### Practice Test\n",
    "***Assignment 1***"
   ]
  },
  {
   "cell_type": "markdown",
   "id": "df93368e-f76c-4e8e-ae51-f1e0a2626353",
   "metadata": {},
   "source": [
    "Here, I will be adding both -\n",
    "\n",
    "**1. Regular code cells**\n",
    "\n",
    "**2. Markdown cells**"
   ]
  },
  {
   "cell_type": "markdown",
   "id": "085e11d0-69a3-47d4-af51-15805aba0a12",
   "metadata": {},
   "source": [
    "### My Objective for this course\n",
    "\n",
    "##### My goal is to improve my technical knowledge of Python or other languages, data presentation, data analysis, and predictive modeling. I'm interested in data visualization and how it may be presented effectively because I'm a business analytics student. To make wise judgments and propel corporate success, data must be well understood and presented understandably. This course will improve my capacity to assess and effectively express insights by giving me hands-on experience with real-world data, which I believe. The information I get will be essential to developing my career and stoking my enthusiasm for using data to tackle challenging issues in the future.\n",
    "\n",
    "![link](https://www.tekmaneducation.com/wp-content/uploads/2020/01/2020-01-21-1.png \"Keep Learning, Keep Growing\")\n"
   ]
  },
  {
   "cell_type": "markdown",
   "id": "2329210d-9a6e-4bda-9f03-15c5da9722e2",
   "metadata": {},
   "source": [
    "### Variable assignment, a for loop, and a function with a print statement and a return statement"
   ]
  },
  {
   "cell_type": "code",
   "execution_count": 41,
   "id": "71a2fd66-f3f9-470b-9cbb-c41c8028b01e",
   "metadata": {},
   "outputs": [
    {
     "data": {
      "text/plain": [
       "6"
      ]
     },
     "execution_count": 41,
     "metadata": {},
     "output_type": "execute_result"
    }
   ],
   "source": [
    "x = 1+5\n",
    "x"
   ]
  },
  {
   "cell_type": "code",
   "execution_count": 42,
   "id": "e4a5de85-1b2f-4d79-be5b-982e80448a4e",
   "metadata": {},
   "outputs": [
    {
     "name": "stdout",
     "output_type": "stream",
     "text": [
      "15\n"
     ]
    }
   ],
   "source": [
    "A = 5\n",
    "B = 10\n",
    "print(A + B)"
   ]
  },
  {
   "cell_type": "code",
   "execution_count": 43,
   "id": "e63aacfb-fbca-4fb5-91f0-b5d962bf9d38",
   "metadata": {},
   "outputs": [],
   "source": [
    "ab = 'Aby'"
   ]
  },
  {
   "cell_type": "code",
   "execution_count": 44,
   "id": "dfcd2f13-f6b2-4afa-b98b-2de4eec272b7",
   "metadata": {},
   "outputs": [
    {
     "data": {
      "text/plain": [
       "'Aby'"
      ]
     },
     "execution_count": 44,
     "metadata": {},
     "output_type": "execute_result"
    }
   ],
   "source": [
    "ab"
   ]
  },
  {
   "cell_type": "code",
   "execution_count": 45,
   "id": "269cff31-a0dc-4a3d-9fbc-8a1e509da0ea",
   "metadata": {},
   "outputs": [],
   "source": [
    "List1 = [0,1,2,3,4,5,6]"
   ]
  },
  {
   "cell_type": "code",
   "execution_count": 46,
   "id": "9a141e1a-32ae-4b43-a5b1-5341615090ce",
   "metadata": {},
   "outputs": [
    {
     "data": {
      "text/plain": [
       "4"
      ]
     },
     "execution_count": 46,
     "metadata": {},
     "output_type": "execute_result"
    }
   ],
   "source": [
    "List1[4]"
   ]
  },
  {
   "cell_type": "code",
   "execution_count": 47,
   "id": "32630727-6d95-4df9-8dec-e61c8297a64c",
   "metadata": {},
   "outputs": [],
   "source": [
    "A = {'xy' :[1,2,3], 'yz' : [4,5,6]}"
   ]
  },
  {
   "cell_type": "code",
   "execution_count": 48,
   "id": "587607b0-b91a-42c3-bb60-6e69cb63d29b",
   "metadata": {},
   "outputs": [
    {
     "data": {
      "text/plain": [
       "{'xy': [1, 2, 3], 'yz': [4, 5, 6]}"
      ]
     },
     "execution_count": 48,
     "metadata": {},
     "output_type": "execute_result"
    }
   ],
   "source": [
    "A"
   ]
  },
  {
   "cell_type": "code",
   "execution_count": 49,
   "id": "2e5ad509-905d-4b38-88e5-99a0dde0a0b9",
   "metadata": {},
   "outputs": [],
   "source": [
    "def say_hello():\n",
    "    print ('say_hello')"
   ]
  },
  {
   "cell_type": "code",
   "execution_count": 50,
   "id": "743609b3-3812-4313-b05f-765942074b48",
   "metadata": {},
   "outputs": [
    {
     "name": "stdout",
     "output_type": "stream",
     "text": [
      "hello\n"
     ]
    }
   ],
   "source": [
    "print('hello')"
   ]
  },
  {
   "cell_type": "code",
   "execution_count": 51,
   "id": "a950626c-609d-4cc4-ac95-54a95748c0bf",
   "metadata": {},
   "outputs": [
    {
     "name": "stdout",
     "output_type": "stream",
     "text": [
      "A\n",
      "p\n",
      "p\n",
      "l\n",
      "e\n"
     ]
    }
   ],
   "source": [
    "for A in 'Apple':\n",
    "    print(A)"
   ]
  },
  {
   "cell_type": "code",
   "execution_count": 52,
   "id": "a8a5c23f-f8b4-4d0d-b09b-33f57e6aaf38",
   "metadata": {},
   "outputs": [
    {
     "name": "stdout",
     "output_type": "stream",
     "text": [
      "1\n",
      "2\n",
      "3\n",
      "4\n",
      "5\n",
      "6\n",
      "7\n",
      "8\n",
      "9\n"
     ]
    }
   ],
   "source": [
    "for x in range(1,10):\n",
    "    print(x)"
   ]
  },
  {
   "cell_type": "code",
   "execution_count": 53,
   "id": "6f69097d-6d5d-4505-8986-5a767766cf20",
   "metadata": {},
   "outputs": [
    {
     "name": "stdout",
     "output_type": "stream",
     "text": [
      "50\n"
     ]
    }
   ],
   "source": [
    "def multiply(number1, number2):\n",
    "    return number1 * number2\n",
    "xyz= multiply(5, 10)\n",
    "print(xyz)"
   ]
  }
 ],
 "metadata": {
  "kernelspec": {
   "display_name": "Python 3 (ipykernel)",
   "language": "python",
   "name": "python3"
  },
  "language_info": {
   "codemirror_mode": {
    "name": "ipython",
    "version": 3
   },
   "file_extension": ".py",
   "mimetype": "text/x-python",
   "name": "python",
   "nbconvert_exporter": "python",
   "pygments_lexer": "ipython3",
   "version": "3.12.8"
  }
 },
 "nbformat": 4,
 "nbformat_minor": 5
}
