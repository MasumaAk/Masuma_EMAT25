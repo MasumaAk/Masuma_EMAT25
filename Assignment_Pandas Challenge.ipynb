{
 "cells": [
  {
   "cell_type": "markdown",
   "id": "9420a255-a522-48d5-88d9-a2675d781168",
   "metadata": {},
   "source": [
    "## Assignment on pandas challenge"
   ]
  },
  {
   "cell_type": "code",
   "execution_count": 44,
   "id": "aa26125e-a60d-4e2e-bbf6-7da80c783de2",
   "metadata": {},
   "outputs": [],
   "source": [
    "import pandas as pd"
   ]
  },
  {
   "cell_type": "markdown",
   "id": "8e2b9a00-adcb-4d99-aae4-b9cf58c2553b",
   "metadata": {},
   "source": [
    "#### Import pandas as pd and create a new DataFrame that contains three columns and three rows.The content of this DataFrame can be anything you choose, but the names of the columns should accurately describe the data contained in the column."
   ]
  },
  {
   "cell_type": "code",
   "execution_count": 45,
   "id": "1e512d8a-aeda-4c27-bbf7-83b33cb1d6d9",
   "metadata": {},
   "outputs": [
    {
     "name": "stdout",
     "output_type": "stream",
     "text": [
      "        Fruit Vegetable    Snacks\n",
      "0       Apple    Carrot   Popcorn\n",
      "1      Banana  Cucumber     Fries\n",
      "2      Orange   Spinach      Cake\n",
      "3  Strawberry    Potato  Biscuits\n"
     ]
    }
   ],
   "source": [
    "Mdata = {\n",
    "    'Fruit': ['Apple', 'Banana', 'Orange','Strawberry'], \n",
    "    'Vegetable': ['Carrot', 'Cucumber', 'Spinach', 'Potato'], \n",
    "    'Snacks': ['Popcorn', 'Fries', 'Cake','Biscuits']\n",
    "}\n",
    "Mdf = pd.DataFrame(Mdata)\n",
    "print(Mdf)"
   ]
  },
  {
   "cell_type": "markdown",
   "id": "a3f3b48a-2d9c-4b9d-929e-d64818deec51",
   "metadata": {},
   "source": [
    "#### In a new code cell, view the head of the DataFrame"
   ]
  },
  {
   "cell_type": "code",
   "execution_count": 46,
   "id": "65462798-12d6-4fd8-b61f-0015bcf705ed",
   "metadata": {},
   "outputs": [
    {
     "data": {
      "text/html": [
       "<div>\n",
       "<style scoped>\n",
       "    .dataframe tbody tr th:only-of-type {\n",
       "        vertical-align: middle;\n",
       "    }\n",
       "\n",
       "    .dataframe tbody tr th {\n",
       "        vertical-align: top;\n",
       "    }\n",
       "\n",
       "    .dataframe thead th {\n",
       "        text-align: right;\n",
       "    }\n",
       "</style>\n",
       "<table border=\"1\" class=\"dataframe\">\n",
       "  <thead>\n",
       "    <tr style=\"text-align: right;\">\n",
       "      <th></th>\n",
       "      <th>Fruit</th>\n",
       "      <th>Vegetable</th>\n",
       "      <th>Snacks</th>\n",
       "    </tr>\n",
       "  </thead>\n",
       "  <tbody>\n",
       "    <tr>\n",
       "      <th>0</th>\n",
       "      <td>Apple</td>\n",
       "      <td>Carrot</td>\n",
       "      <td>Popcorn</td>\n",
       "    </tr>\n",
       "    <tr>\n",
       "      <th>1</th>\n",
       "      <td>Banana</td>\n",
       "      <td>Cucumber</td>\n",
       "      <td>Fries</td>\n",
       "    </tr>\n",
       "    <tr>\n",
       "      <th>2</th>\n",
       "      <td>Orange</td>\n",
       "      <td>Spinach</td>\n",
       "      <td>Cake</td>\n",
       "    </tr>\n",
       "  </tbody>\n",
       "</table>\n",
       "</div>"
      ],
      "text/plain": [
       "    Fruit Vegetable   Snacks\n",
       "0   Apple    Carrot  Popcorn\n",
       "1  Banana  Cucumber    Fries\n",
       "2  Orange   Spinach     Cake"
      ]
     },
     "execution_count": 46,
     "metadata": {},
     "output_type": "execute_result"
    }
   ],
   "source": [
    "Mdf.head(3)"
   ]
  },
  {
   "cell_type": "markdown",
   "id": "4b689fc0-524f-4598-b89f-cf5d784b5c36",
   "metadata": {},
   "source": [
    "#### In a new code cell, view the index of the DataFrame"
   ]
  },
  {
   "cell_type": "code",
   "execution_count": 47,
   "id": "0fd5b1d0-6316-48da-945c-41599c52f6e5",
   "metadata": {},
   "outputs": [
    {
     "name": "stdout",
     "output_type": "stream",
     "text": [
      "RangeIndex(start=0, stop=4, step=1)\n"
     ]
    }
   ],
   "source": [
    "print(Mdf.index)"
   ]
  },
  {
   "cell_type": "markdown",
   "id": "fa2e3793-86d8-4dc9-bb72-92ee7beb8099",
   "metadata": {},
   "source": [
    "#### In a new code cell, select and view only the first row of the DataFrame"
   ]
  },
  {
   "cell_type": "code",
   "execution_count": 48,
   "id": "83004379-372d-49d8-b7cc-b746ad5a9587",
   "metadata": {},
   "outputs": [
    {
     "name": "stdout",
     "output_type": "stream",
     "text": [
      "0         Apple\n",
      "1        Banana\n",
      "2        Orange\n",
      "3    Strawberry\n",
      "Name: Fruit, dtype: object\n"
     ]
    }
   ],
   "source": [
    "print(Mdf['Fruit'])"
   ]
  },
  {
   "cell_type": "code",
   "execution_count": 49,
   "id": "4d3ef78e-3423-4121-a300-1623173c91dd",
   "metadata": {},
   "outputs": [
    {
     "name": "stdout",
     "output_type": "stream",
     "text": [
      "Fruit          Apple\n",
      "Vegetable     Carrot\n",
      "Snacks       Popcorn\n",
      "Name: 0, dtype: object\n"
     ]
    }
   ],
   "source": [
    "print(Mdf.iloc[0])"
   ]
  },
  {
   "cell_type": "markdown",
   "id": "59cc75c6-7296-47b0-90ad-0b59485c3150",
   "metadata": {},
   "source": [
    "#### In a new code cell, create a DataFrame that contains the same information as before, but by passing a different object type to the DataFrame constructor. For example, if you used a list before, use a dictionary and vice a versa."
   ]
  },
  {
   "cell_type": "code",
   "execution_count": 50,
   "id": "002e0b1c-3cd9-4420-89ba-96d93d0af062",
   "metadata": {},
   "outputs": [
    {
     "name": "stdout",
     "output_type": "stream",
     "text": [
      "        Fruit Vegetable    Snacks  DScore\n",
      "0       Apple    Carrot   Popcorn      11\n",
      "1      Banana  Cucumber     Fries      12\n",
      "2      Orange   Spinach      Cake      11\n",
      "3  Strawberry    Potato  Biscuits      13\n",
      "4          10        15        12      30\n"
     ]
    }
   ],
   "source": [
    "\n",
    "Mdata = [\n",
    "    ['Apple', 'Carrot', 'Popcorn', 11], \n",
    "    ['Banana', 'Cucumber', 'Fries', 12], \n",
    "    ['Orange', 'Spinach', 'Cake', 11], \n",
    "    ['Strawberry', 'Potato', 'Biscuits', 13],\n",
    "    [10, 15, 12, 30]\n",
    "]\n",
    "\n",
    "columns = ['Fruit', 'Vegetable', 'Snacks', 'DScore']\n",
    "\n",
    "Mdf = pd.DataFrame(Mdata, columns=columns)\n",
    "print(Mdf)\n"
   ]
  },
  {
   "cell_type": "code",
   "execution_count": 51,
   "id": "ff83f1f3-f049-473d-bd28-8865f383dcdc",
   "metadata": {},
   "outputs": [
    {
     "name": "stdout",
     "output_type": "stream",
     "text": [
      "        Fruit Vegetable    Snacks\n",
      "0       Apple    Carrot   Popcorn\n",
      "1      Banana  Cucumber     Fries\n",
      "2      Orange   Spinach      Cake\n",
      "3  Strawberry    Potato  Biscuits\n"
     ]
    }
   ],
   "source": [
    "\n",
    "# Data as a list of lists\n",
    "data = [\n",
    "    ['Apple', 'Carrot', 'Popcorn'],\n",
    "    ['Banana', 'Cucumber', 'Fries'],\n",
    "    ['Orange', 'Spinach', 'Cake'],\n",
    "    ['Strawberry', 'Potato', 'Biscuits']\n",
    "]\n",
    "\n",
    "# Creating the DataFrame\n",
    "df = pd.DataFrame(data, columns=['Fruit', 'Vegetable', 'Snacks'])\n",
    "print(df)\n"
   ]
  },
  {
   "cell_type": "markdown",
   "id": "fa8397a5-20ce-4e5a-9818-6341a371c44b",
   "metadata": {},
   "source": [
    "##### What does the \"write/render/evaluate\" loop provide for creators of interactive data visualizations?"
   ]
  },
  {
   "cell_type": "markdown",
   "id": "5f7010ba-af56-42a0-a601-ca9ecc1f13da",
   "metadata": {},
   "source": [
    "##### The \"write/render/evaluate\" loop offers a streamlined and iterative approach that helps creators to develop, test, and refine the visualizations effectively. Also, creators can make adjustments in real time, explore various designs, and enhance the visualization by writing the code, rendering the output, and assessing the result."
   ]
  },
  {
   "cell_type": "markdown",
   "id": "5cd9d4de-1fad-45d6-9406-92dafe5ad744",
   "metadata": {},
   "source": [
    "##### Why are dynamic, interactive data visualizations useful when communicating data?"
   ]
  },
  {
   "cell_type": "markdown",
   "id": "8431c6c6-b80f-4170-8b96-93db59936231",
   "metadata": {},
   "source": [
    "##### Interactive data visualizations are useful when communicating the data because they enable more individualized and in-depth user exploration and interaction with the data, dynamic, interactive visualizations are beneficial. Moreover, Interactive visualizations, as opposed to static ones, include tools like zooming, filtering, and drilling down into certain aspects to assist users to learn and acquire deeper ideas based on their own needs and inquiries."
   ]
  },
  {
   "cell_type": "markdown",
   "id": "faa6e891-326e-4740-959f-351f8f40fff6",
   "metadata": {},
   "source": [
    "##### Do you agree with Murray's claim that open-source tools that avoid proprietary software are best for publishing data visualization? In a few sentences, explain why you do or do not agree."
   ]
  },
  {
   "cell_type": "markdown",
   "id": "c82eaa65-4090-4a46-8266-d5eb7549ac0a",
   "metadata": {},
   "source": [
    "##### I have a mixed feeling on Murray's claims, or I can say I partially agree and disagree both together. I agree that open-source tools like D3 are useful since they are accessible on all devices, flexible, and free, but they are also helpful. Proprietary solutions, on the other hand, can provide greater support, more sophisticated capabilities, and user-friendly interfaces, which could be beneficial for newcomers to the industry and require more direction. In the end, the particular requirements of the project will determine whether to use proprietary or open-source software."
   ]
  },
  {
   "cell_type": "code",
   "execution_count": 57,
   "id": "869adf9f-82c5-4b82-b1fe-d8e464faa125",
   "metadata": {},
   "outputs": [
    {
     "name": "stdout",
     "output_type": "stream",
     "text": [
      "DataFrame has been written to Mdf.csv\n"
     ]
    }
   ],
   "source": [
    "# Specify the file path where you want to save the CSV file\n",
    "file_path = 'Mdf.csv'\n",
    "\n",
    "# Write the data frame to a CSV file\n",
    "Mdf.to_csv(file_path, index=False)\n",
    "\n",
    "print(f\"DataFrame has been written to {file_path}\")"
   ]
  }
 ],
 "metadata": {
  "kernelspec": {
   "display_name": "Python 3 (ipykernel)",
   "language": "python",
   "name": "python3"
  },
  "language_info": {
   "codemirror_mode": {
    "name": "ipython",
    "version": 3
   },
   "file_extension": ".py",
   "mimetype": "text/x-python",
   "name": "python",
   "nbconvert_exporter": "python",
   "pygments_lexer": "ipython3",
   "version": "3.12.8"
  }
 },
 "nbformat": 4,
 "nbformat_minor": 5
}
