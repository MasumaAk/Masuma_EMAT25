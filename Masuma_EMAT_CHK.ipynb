{
 "cells": [
  {
   "cell_type": "markdown",
   "id": "bbd7763c-8960-4eb2-86ab-98781165ddbd",
   "metadata": {},
   "source": [
    "# Systems Check\n",
    "## Masuma Akter\n",
    "This is my HW."
   ]
  },
  {
   "cell_type": "code",
   "execution_count": 7,
   "id": "6a0f6350-b719-4214-8fea-55131b0fc817",
   "metadata": {},
   "outputs": [],
   "source": [
    "x = 3+1"
   ]
  },
  {
   "cell_type": "code",
   "execution_count": 8,
   "id": "52f46cc6-d39b-4fc3-94df-e99765dedcbe",
   "metadata": {},
   "outputs": [
    {
     "data": {
      "text/plain": [
       "4"
      ]
     },
     "execution_count": 8,
     "metadata": {},
     "output_type": "execute_result"
    }
   ],
   "source": [
    "x"
   ]
  },
  {
   "cell_type": "code",
   "execution_count": 9,
   "id": "b4524005-c0bb-4a43-9f65-79139ccfc851",
   "metadata": {},
   "outputs": [
    {
     "data": {
      "text/plain": [
       "3"
      ]
     },
     "execution_count": 9,
     "metadata": {},
     "output_type": "execute_result"
    }
   ],
   "source": [
    "y = [0, 1,2,3]\n",
    "y[3]"
   ]
  },
  {
   "cell_type": "code",
   "execution_count": 10,
   "id": "d8e53b3a-b38c-421b-ab35-2914f83092b8",
   "metadata": {},
   "outputs": [],
   "source": [
    "x = 'dog'"
   ]
  },
  {
   "cell_type": "code",
   "execution_count": 11,
   "id": "866c1a4b-aa0c-45a5-ae6f-20c12320cf13",
   "metadata": {},
   "outputs": [
    {
     "data": {
      "text/plain": [
       "'dog'"
      ]
     },
     "execution_count": 11,
     "metadata": {},
     "output_type": "execute_result"
    }
   ],
   "source": [
    "x"
   ]
  },
  {
   "cell_type": "code",
   "execution_count": 15,
   "id": "6269081a-1f03-41ed-897a-5dcf27179bb5",
   "metadata": {},
   "outputs": [
    {
     "data": {
      "text/plain": [
       "{'a': [2, 3, 4], 'b': ['a', 'b', 'c']}"
      ]
     },
     "execution_count": 15,
     "metadata": {},
     "output_type": "execute_result"
    }
   ],
   "source": [
    "a = {'a': [2,3,4], 'b': ['a', 'b', 'c']}\n",
    "a"
   ]
  },
  {
   "cell_type": "code",
   "execution_count": 22,
   "id": "81e25064-a1db-4221-9c75-0f791e849ce5",
   "metadata": {},
   "outputs": [],
   "source": [
    "def say_hello():\n",
    "    print ('hello')"
   ]
  },
  {
   "cell_type": "raw",
   "id": "eec292db-d5bf-4954-8cc3-9415e703c97c",
   "metadata": {},
   "source": [
    "say_hello"
   ]
  },
  {
   "cell_type": "code",
   "execution_count": 26,
   "id": "e9fc5309-c192-4efc-b676-a13867977bfa",
   "metadata": {},
   "outputs": [],
   "source": [
    "def give_hello():\n",
    "    return 'hello'"
   ]
  },
  {
   "cell_type": "code",
   "execution_count": 27,
   "id": "a3fe3ce4-784f-4053-9746-baf5bde44a7e",
   "metadata": {},
   "outputs": [
    {
     "name": "stdout",
     "output_type": "stream",
     "text": [
      "hello\n"
     ]
    }
   ],
   "source": [
    "greeting = say_hello()\n",
    "greeting\n",
    "greeting2 = give_hello()"
   ]
  },
  {
   "cell_type": "code",
   "execution_count": 5,
   "id": "d3d84549-6160-4803-a5b8-1d9f1e251c05",
   "metadata": {},
   "outputs": [
    {
     "name": "stdout",
     "output_type": "stream",
     "text": [
      "d\n",
      "o\n",
      "g\n"
     ]
    }
   ],
   "source": [
    "for x in 'dog':\n",
    "    print(x)"
   ]
  },
  {
   "cell_type": "code",
   "execution_count": 12,
   "id": "366a44be-eea5-48f4-8577-89790592f0db",
   "metadata": {},
   "outputs": [
    {
     "name": "stdout",
     "output_type": "stream",
     "text": [
      "4\n",
      "5\n",
      "6\n",
      "7\n",
      "8\n"
     ]
    }
   ],
   "source": [
    "for i in [1,2,3,4,5]:\n",
    " q = 3+i\n",
    " print (q)"
   ]
  }
 ],
 "metadata": {
  "kernelspec": {
   "display_name": "Python 3 (ipykernel)",
   "language": "python",
   "name": "python3"
  },
  "language_info": {
   "codemirror_mode": {
    "name": "ipython",
    "version": 3
   },
   "file_extension": ".py",
   "mimetype": "text/x-python",
   "name": "python",
   "nbconvert_exporter": "python",
   "pygments_lexer": "ipython3",
   "version": "3.12.8"
  }
 },
 "nbformat": 4,
 "nbformat_minor": 5
}
